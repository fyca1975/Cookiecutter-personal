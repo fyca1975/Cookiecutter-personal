{
 "cells": [
  {
   "cell_type": "code",
   "execution_count": 1,
   "id": "6438c2a9",
   "metadata": {},
   "outputs": [],
   "source": [
    "import os"
   ]
  },
  {
   "cell_type": "code",
   "execution_count": null,
   "id": "851cfa65",
   "metadata": {},
   "outputs": [
    {
     "data": {
      "text/plain": [
       "True"
      ]
     },
     "execution_count": 8,
     "metadata": {},
     "output_type": "execute_result"
    }
   ],
   "source": [
    "CURRENT_DIR = os.getcwd()\n",
    "DATA_DIR = os.path.join(CURRENT_DIR, os.pardir,\"data\",\"raw\")\n",
    "os.path.exists(DATA_DIR)\n",
    "os.path.isdir(DATA_DIR)\n",
    "# print(DATA_DIR)"
   ]
  },
  {
   "cell_type": "code",
   "execution_count": 9,
   "id": "336dd2b3",
   "metadata": {},
   "outputs": [
    {
     "data": {
      "text/plain": [
       "['/Users/fredycastro/Documents/platzi/cookieCutterPersonal/rutas/notebooks/../data/raw/.gitkeep']"
      ]
     },
     "execution_count": 9,
     "metadata": {},
     "output_type": "execute_result"
    }
   ],
   "source": [
    "# archivos dentro de directorio\n",
    "[os.path.join(DATA_DIR, item) for item in os.listdir(DATA_DIR)]"
   ]
  },
  {
   "cell_type": "code",
   "execution_count": 11,
   "id": "22774a0f",
   "metadata": {},
   "outputs": [],
   "source": [
    "# crear una carpeta\n",
    "os.mkdir(os.path.join(DATA_DIR, \"os\"))"
   ]
  },
  {
   "cell_type": "code",
   "execution_count": 2,
   "id": "d6e11d48",
   "metadata": {},
   "outputs": [],
   "source": [
    "import pathlib"
   ]
  },
  {
   "cell_type": "code",
   "execution_count": 7,
   "id": "9f01ea48",
   "metadata": {},
   "outputs": [
    {
     "data": {
      "text/plain": [
       "True"
      ]
     },
     "execution_count": 7,
     "metadata": {},
     "output_type": "execute_result"
    }
   ],
   "source": [
    "CURRENT_DIR2 = pathlib.Path().resolve()\n",
    "DATA_DIR2 = CURRENT_DIR2.parent.joinpath(\"data\",\"raw\")\n",
    "DATA_DIR2.is_dir()\n",
    "DATA_DIR2.exists()"
   ]
  },
  {
   "cell_type": "code",
   "execution_count": 9,
   "id": "931f498c",
   "metadata": {},
   "outputs": [],
   "source": [
    "DATA_DIR2.joinpath(\"pathlib\").mkdir()"
   ]
  },
  {
   "cell_type": "code",
   "execution_count": 10,
   "id": "49d8beda",
   "metadata": {},
   "outputs": [
    {
     "data": {
      "text/plain": [
       "[PosixPath('/Users/fredycastro/Documents/platzi/cookieCutterPersonal/rutas/data/raw/pathlib'),\n",
       " PosixPath('/Users/fredycastro/Documents/platzi/cookieCutterPersonal/rutas/data/raw/.gitkeep'),\n",
       " PosixPath('/Users/fredycastro/Documents/platzi/cookieCutterPersonal/rutas/data/raw/os')]"
      ]
     },
     "execution_count": 10,
     "metadata": {},
     "output_type": "execute_result"
    }
   ],
   "source": [
    "list(DATA_DIR2.glob(\"*\"))"
   ]
  }
 ],
 "metadata": {
  "kernelspec": {
   "display_name": "cookiecutter-personal",
   "language": "python",
   "name": "python3"
  },
  "language_info": {
   "codemirror_mode": {
    "name": "ipython",
    "version": 3
   },
   "file_extension": ".py",
   "mimetype": "text/x-python",
   "name": "python",
   "nbconvert_exporter": "python",
   "pygments_lexer": "ipython3",
   "version": "3.13.5"
  }
 },
 "nbformat": 4,
 "nbformat_minor": 5
}
